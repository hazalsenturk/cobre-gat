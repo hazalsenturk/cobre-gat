{
  "cells": [
    {
      "cell_type": "markdown",
      "source": [
        "# COBRE dataset BrainGAT & MLP Implementation with Performance Comparison\n",
        "\n",
        "This code is retrieved from CogniNet repository and changes made for performance visualization and for optimization purposes"
      ],
      "metadata": {
        "id": "yvR50dVO6_MH"
      }
    },
    {
      "cell_type": "code",
      "source": [
        "!pip install torch"
      ],
      "metadata": {
        "colab": {
          "base_uri": "https://localhost:8080/"
        },
        "id": "kxXmjmgY87h_",
        "outputId": "cf7d4b28-e99a-4b65-feba-0c7b9c970044"
      },
      "execution_count": 1,
      "outputs": [
        {
          "output_type": "stream",
          "name": "stdout",
          "text": [
            "Requirement already satisfied: torch in /usr/local/lib/python3.10/dist-packages (2.2.1+cu121)\n",
            "Requirement already satisfied: filelock in /usr/local/lib/python3.10/dist-packages (from torch) (3.14.0)\n",
            "Requirement already satisfied: typing-extensions>=4.8.0 in /usr/local/lib/python3.10/dist-packages (from torch) (4.11.0)\n",
            "Requirement already satisfied: sympy in /usr/local/lib/python3.10/dist-packages (from torch) (1.12)\n",
            "Requirement already satisfied: networkx in /usr/local/lib/python3.10/dist-packages (from torch) (3.3)\n",
            "Requirement already satisfied: jinja2 in /usr/local/lib/python3.10/dist-packages (from torch) (3.1.3)\n",
            "Requirement already satisfied: fsspec in /usr/local/lib/python3.10/dist-packages (from torch) (2023.6.0)\n",
            "Requirement already satisfied: nvidia-cuda-nvrtc-cu12==12.1.105 in /usr/local/lib/python3.10/dist-packages (from torch) (12.1.105)\n",
            "Requirement already satisfied: nvidia-cuda-runtime-cu12==12.1.105 in /usr/local/lib/python3.10/dist-packages (from torch) (12.1.105)\n",
            "Requirement already satisfied: nvidia-cuda-cupti-cu12==12.1.105 in /usr/local/lib/python3.10/dist-packages (from torch) (12.1.105)\n",
            "Requirement already satisfied: nvidia-cudnn-cu12==8.9.2.26 in /usr/local/lib/python3.10/dist-packages (from torch) (8.9.2.26)\n",
            "Requirement already satisfied: nvidia-cublas-cu12==12.1.3.1 in /usr/local/lib/python3.10/dist-packages (from torch) (12.1.3.1)\n",
            "Requirement already satisfied: nvidia-cufft-cu12==11.0.2.54 in /usr/local/lib/python3.10/dist-packages (from torch) (11.0.2.54)\n",
            "Requirement already satisfied: nvidia-curand-cu12==10.3.2.106 in /usr/local/lib/python3.10/dist-packages (from torch) (10.3.2.106)\n",
            "Requirement already satisfied: nvidia-cusolver-cu12==11.4.5.107 in /usr/local/lib/python3.10/dist-packages (from torch) (11.4.5.107)\n",
            "Requirement already satisfied: nvidia-cusparse-cu12==12.1.0.106 in /usr/local/lib/python3.10/dist-packages (from torch) (12.1.0.106)\n",
            "Requirement already satisfied: nvidia-nccl-cu12==2.19.3 in /usr/local/lib/python3.10/dist-packages (from torch) (2.19.3)\n",
            "Requirement already satisfied: nvidia-nvtx-cu12==12.1.105 in /usr/local/lib/python3.10/dist-packages (from torch) (12.1.105)\n",
            "Requirement already satisfied: triton==2.2.0 in /usr/local/lib/python3.10/dist-packages (from torch) (2.2.0)\n",
            "Requirement already satisfied: nvidia-nvjitlink-cu12 in /usr/local/lib/python3.10/dist-packages (from nvidia-cusolver-cu12==11.4.5.107->torch) (12.4.127)\n",
            "Requirement already satisfied: MarkupSafe>=2.0 in /usr/local/lib/python3.10/dist-packages (from jinja2->torch) (2.1.5)\n",
            "Requirement already satisfied: mpmath>=0.19 in /usr/local/lib/python3.10/dist-packages (from sympy->torch) (1.3.0)\n"
          ]
        }
      ]
    },
    {
      "cell_type": "code",
      "execution_count": 2,
      "metadata": {
        "colab": {
          "base_uri": "https://localhost:8080/"
        },
        "id": "6l0Edyya22GQ",
        "outputId": "096f0bb7-aa94-488b-b020-36cee979ca10"
      },
      "outputs": [
        {
          "output_type": "stream",
          "name": "stdout",
          "text": [
            "Looking in links: https://data.pyg.org/whl/torch-{torch.__version__}.html\n",
            "Requirement already satisfied: torch-scatter in /usr/local/lib/python3.10/dist-packages (2.1.2+pt22cu121)\n",
            "Looking in links: https://data.pyg.org/whl/torch-{torch.__version__}.html\n",
            "Requirement already satisfied: torch-sparse in /usr/local/lib/python3.10/dist-packages (0.6.18+pt22cu121)\n",
            "Requirement already satisfied: scipy in /usr/local/lib/python3.10/dist-packages (from torch-sparse) (1.11.4)\n",
            "Requirement already satisfied: numpy<1.28.0,>=1.21.6 in /usr/local/lib/python3.10/dist-packages (from scipy->torch-sparse) (1.25.2)\n",
            "Looking in links: https://data.pyg.org/whl/torch-{torch.__version__}.html\n",
            "Requirement already satisfied: torch-cluster in /usr/local/lib/python3.10/dist-packages (1.6.3+pt22cu121)\n",
            "Requirement already satisfied: scipy in /usr/local/lib/python3.10/dist-packages (from torch-cluster) (1.11.4)\n",
            "Requirement already satisfied: numpy<1.28.0,>=1.21.6 in /usr/local/lib/python3.10/dist-packages (from scipy->torch-cluster) (1.25.2)\n",
            "Collecting git+https://github.com/pyg-team/pytorch_geometric.git\n",
            "  Cloning https://github.com/pyg-team/pytorch_geometric.git to /tmp/pip-req-build-r8eb2d15\n",
            "  Running command git clone --filter=blob:none --quiet https://github.com/pyg-team/pytorch_geometric.git /tmp/pip-req-build-r8eb2d15\n",
            "  Resolved https://github.com/pyg-team/pytorch_geometric.git to commit 61c47ee404f8e26b3a1cd0db56448b6254920d0e\n",
            "  Installing build dependencies ... \u001b[?25l\u001b[?25hdone\n",
            "  Getting requirements to build wheel ... \u001b[?25l\u001b[?25hdone\n",
            "  Preparing metadata (pyproject.toml) ... \u001b[?25l\u001b[?25hdone\n",
            "Requirement already satisfied: aiohttp in /usr/local/lib/python3.10/dist-packages (from torch-geometric==2.6.0) (3.9.5)\n",
            "Requirement already satisfied: fsspec in /usr/local/lib/python3.10/dist-packages (from torch-geometric==2.6.0) (2023.6.0)\n",
            "Requirement already satisfied: jinja2 in /usr/local/lib/python3.10/dist-packages (from torch-geometric==2.6.0) (3.1.3)\n",
            "Requirement already satisfied: numpy in /usr/local/lib/python3.10/dist-packages (from torch-geometric==2.6.0) (1.25.2)\n",
            "Requirement already satisfied: psutil>=5.8.0 in /usr/local/lib/python3.10/dist-packages (from torch-geometric==2.6.0) (5.9.5)\n",
            "Requirement already satisfied: pyparsing in /usr/local/lib/python3.10/dist-packages (from torch-geometric==2.6.0) (3.1.2)\n",
            "Requirement already satisfied: requests in /usr/local/lib/python3.10/dist-packages (from torch-geometric==2.6.0) (2.31.0)\n",
            "Requirement already satisfied: scikit-learn in /usr/local/lib/python3.10/dist-packages (from torch-geometric==2.6.0) (1.2.2)\n",
            "Requirement already satisfied: scipy in /usr/local/lib/python3.10/dist-packages (from torch-geometric==2.6.0) (1.11.4)\n",
            "Requirement already satisfied: tqdm in /usr/local/lib/python3.10/dist-packages (from torch-geometric==2.6.0) (4.66.4)\n",
            "Requirement already satisfied: aiosignal>=1.1.2 in /usr/local/lib/python3.10/dist-packages (from aiohttp->torch-geometric==2.6.0) (1.3.1)\n",
            "Requirement already satisfied: attrs>=17.3.0 in /usr/local/lib/python3.10/dist-packages (from aiohttp->torch-geometric==2.6.0) (23.2.0)\n",
            "Requirement already satisfied: frozenlist>=1.1.1 in /usr/local/lib/python3.10/dist-packages (from aiohttp->torch-geometric==2.6.0) (1.4.1)\n",
            "Requirement already satisfied: multidict<7.0,>=4.5 in /usr/local/lib/python3.10/dist-packages (from aiohttp->torch-geometric==2.6.0) (6.0.5)\n",
            "Requirement already satisfied: yarl<2.0,>=1.0 in /usr/local/lib/python3.10/dist-packages (from aiohttp->torch-geometric==2.6.0) (1.9.4)\n",
            "Requirement already satisfied: async-timeout<5.0,>=4.0 in /usr/local/lib/python3.10/dist-packages (from aiohttp->torch-geometric==2.6.0) (4.0.3)\n",
            "Requirement already satisfied: MarkupSafe>=2.0 in /usr/local/lib/python3.10/dist-packages (from jinja2->torch-geometric==2.6.0) (2.1.5)\n",
            "Requirement already satisfied: charset-normalizer<4,>=2 in /usr/local/lib/python3.10/dist-packages (from requests->torch-geometric==2.6.0) (3.3.2)\n",
            "Requirement already satisfied: idna<4,>=2.5 in /usr/local/lib/python3.10/dist-packages (from requests->torch-geometric==2.6.0) (3.7)\n",
            "Requirement already satisfied: urllib3<3,>=1.21.1 in /usr/local/lib/python3.10/dist-packages (from requests->torch-geometric==2.6.0) (2.0.7)\n",
            "Requirement already satisfied: certifi>=2017.4.17 in /usr/local/lib/python3.10/dist-packages (from requests->torch-geometric==2.6.0) (2024.2.2)\n",
            "Requirement already satisfied: joblib>=1.1.1 in /usr/local/lib/python3.10/dist-packages (from scikit-learn->torch-geometric==2.6.0) (1.4.2)\n",
            "Requirement already satisfied: threadpoolctl>=2.0.0 in /usr/local/lib/python3.10/dist-packages (from scikit-learn->torch-geometric==2.6.0) (3.5.0)\n"
          ]
        }
      ],
      "source": [
        "!pip install torch-scatter -f https://data.pyg.org/whl/torch-{torch.__version__}.html\n",
        "!pip install torch-sparse -f https://data.pyg.org/whl/torch-{torch.__version__}.html\n",
        "!pip install torch-cluster -f https://data.pyg.org/whl/torch-{torch.__version__}.html\n",
        "!pip install git+https://github.com/pyg-team/pytorch_geometric.git"
      ]
    },
    {
      "cell_type": "code",
      "execution_count": 3,
      "metadata": {
        "colab": {
          "base_uri": "https://localhost:8080/"
        },
        "id": "RB5gbnfm22GQ",
        "outputId": "12db0ec8-b341-42c4-c290-f1541f8bfe1b"
      },
      "outputs": [
        {
          "output_type": "stream",
          "name": "stdout",
          "text": [
            "Requirement already satisfied: torch in /usr/local/lib/python3.10/dist-packages (2.2.1+cu121)\n",
            "Requirement already satisfied: torchvision in /usr/local/lib/python3.10/dist-packages (0.17.1+cu121)\n",
            "Requirement already satisfied: filelock in /usr/local/lib/python3.10/dist-packages (from torch) (3.14.0)\n",
            "Requirement already satisfied: typing-extensions>=4.8.0 in /usr/local/lib/python3.10/dist-packages (from torch) (4.11.0)\n",
            "Requirement already satisfied: sympy in /usr/local/lib/python3.10/dist-packages (from torch) (1.12)\n",
            "Requirement already satisfied: networkx in /usr/local/lib/python3.10/dist-packages (from torch) (3.3)\n",
            "Requirement already satisfied: jinja2 in /usr/local/lib/python3.10/dist-packages (from torch) (3.1.3)\n",
            "Requirement already satisfied: fsspec in /usr/local/lib/python3.10/dist-packages (from torch) (2023.6.0)\n",
            "Requirement already satisfied: nvidia-cuda-nvrtc-cu12==12.1.105 in /usr/local/lib/python3.10/dist-packages (from torch) (12.1.105)\n",
            "Requirement already satisfied: nvidia-cuda-runtime-cu12==12.1.105 in /usr/local/lib/python3.10/dist-packages (from torch) (12.1.105)\n",
            "Requirement already satisfied: nvidia-cuda-cupti-cu12==12.1.105 in /usr/local/lib/python3.10/dist-packages (from torch) (12.1.105)\n",
            "Requirement already satisfied: nvidia-cudnn-cu12==8.9.2.26 in /usr/local/lib/python3.10/dist-packages (from torch) (8.9.2.26)\n",
            "Requirement already satisfied: nvidia-cublas-cu12==12.1.3.1 in /usr/local/lib/python3.10/dist-packages (from torch) (12.1.3.1)\n",
            "Requirement already satisfied: nvidia-cufft-cu12==11.0.2.54 in /usr/local/lib/python3.10/dist-packages (from torch) (11.0.2.54)\n",
            "Requirement already satisfied: nvidia-curand-cu12==10.3.2.106 in /usr/local/lib/python3.10/dist-packages (from torch) (10.3.2.106)\n",
            "Requirement already satisfied: nvidia-cusolver-cu12==11.4.5.107 in /usr/local/lib/python3.10/dist-packages (from torch) (11.4.5.107)\n",
            "Requirement already satisfied: nvidia-cusparse-cu12==12.1.0.106 in /usr/local/lib/python3.10/dist-packages (from torch) (12.1.0.106)\n",
            "Requirement already satisfied: nvidia-nccl-cu12==2.19.3 in /usr/local/lib/python3.10/dist-packages (from torch) (2.19.3)\n",
            "Requirement already satisfied: nvidia-nvtx-cu12==12.1.105 in /usr/local/lib/python3.10/dist-packages (from torch) (12.1.105)\n",
            "Requirement already satisfied: triton==2.2.0 in /usr/local/lib/python3.10/dist-packages (from torch) (2.2.0)\n",
            "Requirement already satisfied: nvidia-nvjitlink-cu12 in /usr/local/lib/python3.10/dist-packages (from nvidia-cusolver-cu12==11.4.5.107->torch) (12.4.127)\n",
            "Requirement already satisfied: numpy in /usr/local/lib/python3.10/dist-packages (from torchvision) (1.25.2)\n",
            "Requirement already satisfied: pillow!=8.3.*,>=5.3.0 in /usr/local/lib/python3.10/dist-packages (from torchvision) (9.4.0)\n",
            "Requirement already satisfied: MarkupSafe>=2.0 in /usr/local/lib/python3.10/dist-packages (from jinja2->torch) (2.1.5)\n",
            "Requirement already satisfied: mpmath>=0.19 in /usr/local/lib/python3.10/dist-packages (from sympy->torch) (1.3.0)\n"
          ]
        }
      ],
      "source": [
        "!pip install torch torchvision"
      ]
    },
    {
      "cell_type": "code",
      "execution_count": 4,
      "metadata": {
        "colab": {
          "base_uri": "https://localhost:8080/"
        },
        "id": "5to8STOY22GR",
        "outputId": "0b090f04-11e6-4e54-9d14-1958f7d486f8"
      },
      "outputs": [
        {
          "output_type": "stream",
          "name": "stdout",
          "text": [
            "Requirement already satisfied: torch_geometric in /usr/local/lib/python3.10/dist-packages (2.6.0)\n",
            "Requirement already satisfied: aiohttp in /usr/local/lib/python3.10/dist-packages (from torch_geometric) (3.9.5)\n",
            "Requirement already satisfied: fsspec in /usr/local/lib/python3.10/dist-packages (from torch_geometric) (2023.6.0)\n",
            "Requirement already satisfied: jinja2 in /usr/local/lib/python3.10/dist-packages (from torch_geometric) (3.1.3)\n",
            "Requirement already satisfied: numpy in /usr/local/lib/python3.10/dist-packages (from torch_geometric) (1.25.2)\n",
            "Requirement already satisfied: psutil>=5.8.0 in /usr/local/lib/python3.10/dist-packages (from torch_geometric) (5.9.5)\n",
            "Requirement already satisfied: pyparsing in /usr/local/lib/python3.10/dist-packages (from torch_geometric) (3.1.2)\n",
            "Requirement already satisfied: requests in /usr/local/lib/python3.10/dist-packages (from torch_geometric) (2.31.0)\n",
            "Requirement already satisfied: scikit-learn in /usr/local/lib/python3.10/dist-packages (from torch_geometric) (1.2.2)\n",
            "Requirement already satisfied: scipy in /usr/local/lib/python3.10/dist-packages (from torch_geometric) (1.11.4)\n",
            "Requirement already satisfied: tqdm in /usr/local/lib/python3.10/dist-packages (from torch_geometric) (4.66.4)\n",
            "Requirement already satisfied: aiosignal>=1.1.2 in /usr/local/lib/python3.10/dist-packages (from aiohttp->torch_geometric) (1.3.1)\n",
            "Requirement already satisfied: attrs>=17.3.0 in /usr/local/lib/python3.10/dist-packages (from aiohttp->torch_geometric) (23.2.0)\n",
            "Requirement already satisfied: frozenlist>=1.1.1 in /usr/local/lib/python3.10/dist-packages (from aiohttp->torch_geometric) (1.4.1)\n",
            "Requirement already satisfied: multidict<7.0,>=4.5 in /usr/local/lib/python3.10/dist-packages (from aiohttp->torch_geometric) (6.0.5)\n",
            "Requirement already satisfied: yarl<2.0,>=1.0 in /usr/local/lib/python3.10/dist-packages (from aiohttp->torch_geometric) (1.9.4)\n",
            "Requirement already satisfied: async-timeout<5.0,>=4.0 in /usr/local/lib/python3.10/dist-packages (from aiohttp->torch_geometric) (4.0.3)\n",
            "Requirement already satisfied: MarkupSafe>=2.0 in /usr/local/lib/python3.10/dist-packages (from jinja2->torch_geometric) (2.1.5)\n",
            "Requirement already satisfied: charset-normalizer<4,>=2 in /usr/local/lib/python3.10/dist-packages (from requests->torch_geometric) (3.3.2)\n",
            "Requirement already satisfied: idna<4,>=2.5 in /usr/local/lib/python3.10/dist-packages (from requests->torch_geometric) (3.7)\n",
            "Requirement already satisfied: urllib3<3,>=1.21.1 in /usr/local/lib/python3.10/dist-packages (from requests->torch_geometric) (2.0.7)\n",
            "Requirement already satisfied: certifi>=2017.4.17 in /usr/local/lib/python3.10/dist-packages (from requests->torch_geometric) (2024.2.2)\n",
            "Requirement already satisfied: joblib>=1.1.1 in /usr/local/lib/python3.10/dist-packages (from scikit-learn->torch_geometric) (1.4.2)\n",
            "Requirement already satisfied: threadpoolctl>=2.0.0 in /usr/local/lib/python3.10/dist-packages (from scikit-learn->torch_geometric) (3.5.0)\n"
          ]
        }
      ],
      "source": [
        "!pip install torch_geometric"
      ]
    },
    {
      "cell_type": "markdown",
      "metadata": {
        "id": "vmwEgqEn22GR"
      },
      "source": [
        "# Imports"
      ]
    },
    {
      "cell_type": "code",
      "execution_count": 69,
      "metadata": {
        "id": "GNzUSXRP8bTc"
      },
      "outputs": [],
      "source": [
        "import os\n",
        "import scipy\n",
        "import json\n",
        "import matplotlib.pyplot as plt\n",
        "import numpy as np\n",
        "import pandas as pd\n",
        "from scipy import io\n",
        "from typing import Union, Any, Optional, List, Dict, Tuple\n",
        "from tqdm import tqdm\n",
        "\n",
        "from dataclasses import dataclass, field\n",
        "from pathlib import Path\n",
        "\n",
        "import torch\n",
        "from torch import nn\n",
        "from torch.nn import functional as F\n",
        "from torch import Tensor\n",
        "from torch.nn import Parameter, Linear\n",
        "\n",
        "from sklearn.metrics import f1_score, accuracy_score, roc_auc_score, roc_curve, auc\n",
        "from sklearn.preprocessing import label_binarize\n",
        "\n",
        "import torch_geometric\n",
        "import torch_geometric as pyg\n",
        "from torch_geometric.typing import Size, OptTensor\n",
        "from torch_geometric.nn import global_add_pool, global_mean_pool, MessagePassing, GATConv, GCNConv, PNAConv\n",
        "from torch_geometric.nn import Sequential as pygSequential\n",
        "from torch_sparse import SparseTensor, matmul, fill_diag, sum as sparsesum, mul\n",
        "from torch_geometric.nn.inits import glorot, zeros\n",
        "from torch_geometric.utils import softmax\n",
        "from torch_geometric.data import Data, InMemoryDataset\n",
        "from torch_geometric.loader import DataLoader\n",
        "import seaborn as sns\n"
      ]
    },
    {
      "cell_type": "code",
      "execution_count": 7,
      "metadata": {
        "colab": {
          "base_uri": "https://localhost:8080/"
        },
        "id": "dK5-LLwJ22GR",
        "outputId": "10488622-888b-44b1-98f7-083259343ce8"
      },
      "outputs": [
        {
          "output_type": "stream",
          "name": "stdout",
          "text": [
            "torch 2.2.1+cu121\n",
            "torch_geometric 2.6.0\n",
            "cuda\n"
          ]
        }
      ],
      "source": [
        "print('torch', torch.__version__)\n",
        "print('torch_geometric', torch_geometric.__version__)\n",
        "device = torch.device(\"cuda\" if torch.cuda.is_available() else \"cpu\")\n",
        "print(device)"
      ]
    },
    {
      "cell_type": "code",
      "execution_count": 8,
      "metadata": {
        "id": "e2_ocGa6JRMK"
      },
      "outputs": [],
      "source": [
        "cobre_csvs_path =  '../cobre/aal/'"
      ]
    },
    {
      "cell_type": "markdown",
      "metadata": {
        "id": "6VZnmDd69xvR"
      },
      "source": [
        "# Fom connectivity matrices to pytorch geometric (PyG) data"
      ]
    },
    {
      "cell_type": "code",
      "execution_count": 9,
      "metadata": {
        "id": "ufPifdJv99PL"
      },
      "outputs": [],
      "source": [
        "def cm_to_edges(cm: np.ndarray):\n",
        "    \"\"\"\n",
        "    Convert CM to (edge_index, edge_weights) of a fully connected weighted graph\n",
        "    (including self-loops with zero weights)\n",
        "    return: (edge_index, edge_weights)\n",
        "    \"\"\"\n",
        "    cm = torch.FloatTensor(cm)\n",
        "    index = (torch.isnan(cm) == 0).nonzero(as_tuple=True)\n",
        "    edge_attr = torch.abs(cm[index])\n",
        "\n",
        "    return torch.stack(index, dim=0), edge_attr\n",
        "\n",
        "def prepare_pyg_data(\n",
        "    cm: np.ndarray,\n",
        "    subj_id: str,\n",
        "    targets: int,\n",
        ") -> Data:\n",
        "\n",
        "    # fully connected graph\n",
        "    n = cm.shape[0]\n",
        "    edge_index, edge_attr = cm_to_edges(cm)\n",
        "\n",
        "    # compute initial node embeddings -> just original weights\n",
        "    x = torch.from_numpy(cm).to(device)\n",
        "\n",
        "    # get encoded labels\n",
        "    y = F.one_hot(torch.tensor([targets-1]), num_classes=2).to(device) # we took targets-1 because targets in abide are 1 and 2\n",
        "\n",
        "    data = Data(\n",
        "        edge_index=edge_index,\n",
        "        edge_attr=edge_attr,\n",
        "        x=x,\n",
        "        num_nodes=n,\n",
        "        y=y,\n",
        "        subj_id=subj_id,\n",
        "    )\n",
        "\n",
        "    return data"
      ]
    },
    {
      "cell_type": "markdown",
      "metadata": {
        "id": "TOy7_K0n22GT"
      },
      "source": [
        "## COBRE"
      ]
    },
    {
      "cell_type": "markdown",
      "metadata": {
        "id": "e3c6Qgh522GT"
      },
      "source": [
        "COBRE dataset is pretty small so the deep ML models overfit too easily"
      ]
    },
    {
      "cell_type": "code",
      "execution_count": 10,
      "metadata": {
        "colab": {
          "base_uri": "https://localhost:8080/",
          "height": 486
        },
        "id": "BP_Kjm5u22GT",
        "outputId": "5c61dc3b-90fa-4eef-b6eb-906f54e6c2e1"
      },
      "outputs": [
        {
          "output_type": "execute_result",
          "data": {
            "text/plain": [
              "   Study  Projectid                                        Description  \\\n",
              "0  COBRE       1139  The Center for Biomedical Research Excellence ...   \n",
              "1  COBRE       1139  The Center for Biomedical Research Excellence ...   \n",
              "2  COBRE       1139  The Center for Biomedical Research Excellence ...   \n",
              "3  COBRE       1139  The Center for Biomedical Research Excellence ...   \n",
              "4  COBRE       1139  The Center for Biomedical Research Excellence ...   \n",
              "\n",
              "   Subjectid  Age   Sex                 Dx  Field_strength  \\\n",
              "0  A00000300   36  male  No_Known_Disorder               3   \n",
              "1  A00000300   36  male  No_Known_Disorder               3   \n",
              "2  A00000300   36  male  No_Known_Disorder               3   \n",
              "3  A00000300   36  male  No_Known_Disorder               3   \n",
              "4  A00000300   36  male  No_Known_Disorder               3   \n",
              "\n",
              "                Img_date  Datauri    Maker           Model Szc_protocol_hier  \\\n",
              "0  2011-01-01 00:00:00.0   970414  Siemens  MIND TRIO 3.0T     Resting_State   \n",
              "1  2011-01-01 00:00:00.0   980034  Siemens  MIND TRIO 3.0T            MPRAGE   \n",
              "2  2011-01-01 00:00:00.0   980054  Siemens  MIND TRIO 3.0T            MPRAGE   \n",
              "3  2011-01-01 00:00:00.0   980134  Siemens  MIND TRIO 3.0T         Diffusion   \n",
              "4  2011-01-01 00:00:00.0   980154  Siemens  MIND TRIO 3.0T         Diffusion   \n",
              "\n",
              "   Notes Imaging_protocol_site  Visit  \n",
              "0    NaN                   MRN    NaN  \n",
              "1    NaN                   MRN    NaN  \n",
              "2    NaN                   MRN    NaN  \n",
              "3    NaN                   MRN    NaN  \n",
              "4    NaN                   MRN    NaN  "
            ],
            "text/html": [
              "\n",
              "  <div id=\"df-6ce2dab4-09ca-4156-83e5-9501b6c18876\" class=\"colab-df-container\">\n",
              "    <div>\n",
              "<style scoped>\n",
              "    .dataframe tbody tr th:only-of-type {\n",
              "        vertical-align: middle;\n",
              "    }\n",
              "\n",
              "    .dataframe tbody tr th {\n",
              "        vertical-align: top;\n",
              "    }\n",
              "\n",
              "    .dataframe thead th {\n",
              "        text-align: right;\n",
              "    }\n",
              "</style>\n",
              "<table border=\"1\" class=\"dataframe\">\n",
              "  <thead>\n",
              "    <tr style=\"text-align: right;\">\n",
              "      <th></th>\n",
              "      <th>Study</th>\n",
              "      <th>Projectid</th>\n",
              "      <th>Description</th>\n",
              "      <th>Subjectid</th>\n",
              "      <th>Age</th>\n",
              "      <th>Sex</th>\n",
              "      <th>Dx</th>\n",
              "      <th>Field_strength</th>\n",
              "      <th>Img_date</th>\n",
              "      <th>Datauri</th>\n",
              "      <th>Maker</th>\n",
              "      <th>Model</th>\n",
              "      <th>Szc_protocol_hier</th>\n",
              "      <th>Notes</th>\n",
              "      <th>Imaging_protocol_site</th>\n",
              "      <th>Visit</th>\n",
              "    </tr>\n",
              "  </thead>\n",
              "  <tbody>\n",
              "    <tr>\n",
              "      <th>0</th>\n",
              "      <td>COBRE</td>\n",
              "      <td>1139</td>\n",
              "      <td>The Center for Biomedical Research Excellence ...</td>\n",
              "      <td>A00000300</td>\n",
              "      <td>36</td>\n",
              "      <td>male</td>\n",
              "      <td>No_Known_Disorder</td>\n",
              "      <td>3</td>\n",
              "      <td>2011-01-01 00:00:00.0</td>\n",
              "      <td>970414</td>\n",
              "      <td>Siemens</td>\n",
              "      <td>MIND TRIO 3.0T</td>\n",
              "      <td>Resting_State</td>\n",
              "      <td>NaN</td>\n",
              "      <td>MRN</td>\n",
              "      <td>NaN</td>\n",
              "    </tr>\n",
              "    <tr>\n",
              "      <th>1</th>\n",
              "      <td>COBRE</td>\n",
              "      <td>1139</td>\n",
              "      <td>The Center for Biomedical Research Excellence ...</td>\n",
              "      <td>A00000300</td>\n",
              "      <td>36</td>\n",
              "      <td>male</td>\n",
              "      <td>No_Known_Disorder</td>\n",
              "      <td>3</td>\n",
              "      <td>2011-01-01 00:00:00.0</td>\n",
              "      <td>980034</td>\n",
              "      <td>Siemens</td>\n",
              "      <td>MIND TRIO 3.0T</td>\n",
              "      <td>MPRAGE</td>\n",
              "      <td>NaN</td>\n",
              "      <td>MRN</td>\n",
              "      <td>NaN</td>\n",
              "    </tr>\n",
              "    <tr>\n",
              "      <th>2</th>\n",
              "      <td>COBRE</td>\n",
              "      <td>1139</td>\n",
              "      <td>The Center for Biomedical Research Excellence ...</td>\n",
              "      <td>A00000300</td>\n",
              "      <td>36</td>\n",
              "      <td>male</td>\n",
              "      <td>No_Known_Disorder</td>\n",
              "      <td>3</td>\n",
              "      <td>2011-01-01 00:00:00.0</td>\n",
              "      <td>980054</td>\n",
              "      <td>Siemens</td>\n",
              "      <td>MIND TRIO 3.0T</td>\n",
              "      <td>MPRAGE</td>\n",
              "      <td>NaN</td>\n",
              "      <td>MRN</td>\n",
              "      <td>NaN</td>\n",
              "    </tr>\n",
              "    <tr>\n",
              "      <th>3</th>\n",
              "      <td>COBRE</td>\n",
              "      <td>1139</td>\n",
              "      <td>The Center for Biomedical Research Excellence ...</td>\n",
              "      <td>A00000300</td>\n",
              "      <td>36</td>\n",
              "      <td>male</td>\n",
              "      <td>No_Known_Disorder</td>\n",
              "      <td>3</td>\n",
              "      <td>2011-01-01 00:00:00.0</td>\n",
              "      <td>980134</td>\n",
              "      <td>Siemens</td>\n",
              "      <td>MIND TRIO 3.0T</td>\n",
              "      <td>Diffusion</td>\n",
              "      <td>NaN</td>\n",
              "      <td>MRN</td>\n",
              "      <td>NaN</td>\n",
              "    </tr>\n",
              "    <tr>\n",
              "      <th>4</th>\n",
              "      <td>COBRE</td>\n",
              "      <td>1139</td>\n",
              "      <td>The Center for Biomedical Research Excellence ...</td>\n",
              "      <td>A00000300</td>\n",
              "      <td>36</td>\n",
              "      <td>male</td>\n",
              "      <td>No_Known_Disorder</td>\n",
              "      <td>3</td>\n",
              "      <td>2011-01-01 00:00:00.0</td>\n",
              "      <td>980154</td>\n",
              "      <td>Siemens</td>\n",
              "      <td>MIND TRIO 3.0T</td>\n",
              "      <td>Diffusion</td>\n",
              "      <td>NaN</td>\n",
              "      <td>MRN</td>\n",
              "      <td>NaN</td>\n",
              "    </tr>\n",
              "  </tbody>\n",
              "</table>\n",
              "</div>\n",
              "    <div class=\"colab-df-buttons\">\n",
              "\n",
              "  <div class=\"colab-df-container\">\n",
              "    <button class=\"colab-df-convert\" onclick=\"convertToInteractive('df-6ce2dab4-09ca-4156-83e5-9501b6c18876')\"\n",
              "            title=\"Convert this dataframe to an interactive table.\"\n",
              "            style=\"display:none;\">\n",
              "\n",
              "  <svg xmlns=\"http://www.w3.org/2000/svg\" height=\"24px\" viewBox=\"0 -960 960 960\">\n",
              "    <path d=\"M120-120v-720h720v720H120Zm60-500h600v-160H180v160Zm220 220h160v-160H400v160Zm0 220h160v-160H400v160ZM180-400h160v-160H180v160Zm440 0h160v-160H620v160ZM180-180h160v-160H180v160Zm440 0h160v-160H620v160Z\"/>\n",
              "  </svg>\n",
              "    </button>\n",
              "\n",
              "  <style>\n",
              "    .colab-df-container {\n",
              "      display:flex;\n",
              "      gap: 12px;\n",
              "    }\n",
              "\n",
              "    .colab-df-convert {\n",
              "      background-color: #E8F0FE;\n",
              "      border: none;\n",
              "      border-radius: 50%;\n",
              "      cursor: pointer;\n",
              "      display: none;\n",
              "      fill: #1967D2;\n",
              "      height: 32px;\n",
              "      padding: 0 0 0 0;\n",
              "      width: 32px;\n",
              "    }\n",
              "\n",
              "    .colab-df-convert:hover {\n",
              "      background-color: #E2EBFA;\n",
              "      box-shadow: 0px 1px 2px rgba(60, 64, 67, 0.3), 0px 1px 3px 1px rgba(60, 64, 67, 0.15);\n",
              "      fill: #174EA6;\n",
              "    }\n",
              "\n",
              "    .colab-df-buttons div {\n",
              "      margin-bottom: 4px;\n",
              "    }\n",
              "\n",
              "    [theme=dark] .colab-df-convert {\n",
              "      background-color: #3B4455;\n",
              "      fill: #D2E3FC;\n",
              "    }\n",
              "\n",
              "    [theme=dark] .colab-df-convert:hover {\n",
              "      background-color: #434B5C;\n",
              "      box-shadow: 0px 1px 3px 1px rgba(0, 0, 0, 0.15);\n",
              "      filter: drop-shadow(0px 1px 2px rgba(0, 0, 0, 0.3));\n",
              "      fill: #FFFFFF;\n",
              "    }\n",
              "  </style>\n",
              "\n",
              "    <script>\n",
              "      const buttonEl =\n",
              "        document.querySelector('#df-6ce2dab4-09ca-4156-83e5-9501b6c18876 button.colab-df-convert');\n",
              "      buttonEl.style.display =\n",
              "        google.colab.kernel.accessAllowed ? 'block' : 'none';\n",
              "\n",
              "      async function convertToInteractive(key) {\n",
              "        const element = document.querySelector('#df-6ce2dab4-09ca-4156-83e5-9501b6c18876');\n",
              "        const dataTable =\n",
              "          await google.colab.kernel.invokeFunction('convertToInteractive',\n",
              "                                                    [key], {});\n",
              "        if (!dataTable) return;\n",
              "\n",
              "        const docLinkHtml = 'Like what you see? Visit the ' +\n",
              "          '<a target=\"_blank\" href=https://colab.research.google.com/notebooks/data_table.ipynb>data table notebook</a>'\n",
              "          + ' to learn more about interactive tables.';\n",
              "        element.innerHTML = '';\n",
              "        dataTable['output_type'] = 'display_data';\n",
              "        await google.colab.output.renderOutput(dataTable, element);\n",
              "        const docLink = document.createElement('div');\n",
              "        docLink.innerHTML = docLinkHtml;\n",
              "        element.appendChild(docLink);\n",
              "      }\n",
              "    </script>\n",
              "  </div>\n",
              "\n",
              "\n",
              "<div id=\"df-38af6234-964e-48ad-a3e5-28ca0aa286e5\">\n",
              "  <button class=\"colab-df-quickchart\" onclick=\"quickchart('df-38af6234-964e-48ad-a3e5-28ca0aa286e5')\"\n",
              "            title=\"Suggest charts\"\n",
              "            style=\"display:none;\">\n",
              "\n",
              "<svg xmlns=\"http://www.w3.org/2000/svg\" height=\"24px\"viewBox=\"0 0 24 24\"\n",
              "     width=\"24px\">\n",
              "    <g>\n",
              "        <path d=\"M19 3H5c-1.1 0-2 .9-2 2v14c0 1.1.9 2 2 2h14c1.1 0 2-.9 2-2V5c0-1.1-.9-2-2-2zM9 17H7v-7h2v7zm4 0h-2V7h2v10zm4 0h-2v-4h2v4z\"/>\n",
              "    </g>\n",
              "</svg>\n",
              "  </button>\n",
              "\n",
              "<style>\n",
              "  .colab-df-quickchart {\n",
              "      --bg-color: #E8F0FE;\n",
              "      --fill-color: #1967D2;\n",
              "      --hover-bg-color: #E2EBFA;\n",
              "      --hover-fill-color: #174EA6;\n",
              "      --disabled-fill-color: #AAA;\n",
              "      --disabled-bg-color: #DDD;\n",
              "  }\n",
              "\n",
              "  [theme=dark] .colab-df-quickchart {\n",
              "      --bg-color: #3B4455;\n",
              "      --fill-color: #D2E3FC;\n",
              "      --hover-bg-color: #434B5C;\n",
              "      --hover-fill-color: #FFFFFF;\n",
              "      --disabled-bg-color: #3B4455;\n",
              "      --disabled-fill-color: #666;\n",
              "  }\n",
              "\n",
              "  .colab-df-quickchart {\n",
              "    background-color: var(--bg-color);\n",
              "    border: none;\n",
              "    border-radius: 50%;\n",
              "    cursor: pointer;\n",
              "    display: none;\n",
              "    fill: var(--fill-color);\n",
              "    height: 32px;\n",
              "    padding: 0;\n",
              "    width: 32px;\n",
              "  }\n",
              "\n",
              "  .colab-df-quickchart:hover {\n",
              "    background-color: var(--hover-bg-color);\n",
              "    box-shadow: 0 1px 2px rgba(60, 64, 67, 0.3), 0 1px 3px 1px rgba(60, 64, 67, 0.15);\n",
              "    fill: var(--button-hover-fill-color);\n",
              "  }\n",
              "\n",
              "  .colab-df-quickchart-complete:disabled,\n",
              "  .colab-df-quickchart-complete:disabled:hover {\n",
              "    background-color: var(--disabled-bg-color);\n",
              "    fill: var(--disabled-fill-color);\n",
              "    box-shadow: none;\n",
              "  }\n",
              "\n",
              "  .colab-df-spinner {\n",
              "    border: 2px solid var(--fill-color);\n",
              "    border-color: transparent;\n",
              "    border-bottom-color: var(--fill-color);\n",
              "    animation:\n",
              "      spin 1s steps(1) infinite;\n",
              "  }\n",
              "\n",
              "  @keyframes spin {\n",
              "    0% {\n",
              "      border-color: transparent;\n",
              "      border-bottom-color: var(--fill-color);\n",
              "      border-left-color: var(--fill-color);\n",
              "    }\n",
              "    20% {\n",
              "      border-color: transparent;\n",
              "      border-left-color: var(--fill-color);\n",
              "      border-top-color: var(--fill-color);\n",
              "    }\n",
              "    30% {\n",
              "      border-color: transparent;\n",
              "      border-left-color: var(--fill-color);\n",
              "      border-top-color: var(--fill-color);\n",
              "      border-right-color: var(--fill-color);\n",
              "    }\n",
              "    40% {\n",
              "      border-color: transparent;\n",
              "      border-right-color: var(--fill-color);\n",
              "      border-top-color: var(--fill-color);\n",
              "    }\n",
              "    60% {\n",
              "      border-color: transparent;\n",
              "      border-right-color: var(--fill-color);\n",
              "    }\n",
              "    80% {\n",
              "      border-color: transparent;\n",
              "      border-right-color: var(--fill-color);\n",
              "      border-bottom-color: var(--fill-color);\n",
              "    }\n",
              "    90% {\n",
              "      border-color: transparent;\n",
              "      border-bottom-color: var(--fill-color);\n",
              "    }\n",
              "  }\n",
              "</style>\n",
              "\n",
              "  <script>\n",
              "    async function quickchart(key) {\n",
              "      const quickchartButtonEl =\n",
              "        document.querySelector('#' + key + ' button');\n",
              "      quickchartButtonEl.disabled = true;  // To prevent multiple clicks.\n",
              "      quickchartButtonEl.classList.add('colab-df-spinner');\n",
              "      try {\n",
              "        const charts = await google.colab.kernel.invokeFunction(\n",
              "            'suggestCharts', [key], {});\n",
              "      } catch (error) {\n",
              "        console.error('Error during call to suggestCharts:', error);\n",
              "      }\n",
              "      quickchartButtonEl.classList.remove('colab-df-spinner');\n",
              "      quickchartButtonEl.classList.add('colab-df-quickchart-complete');\n",
              "    }\n",
              "    (() => {\n",
              "      let quickchartButtonEl =\n",
              "        document.querySelector('#df-38af6234-964e-48ad-a3e5-28ca0aa286e5 button');\n",
              "      quickchartButtonEl.style.display =\n",
              "        google.colab.kernel.accessAllowed ? 'block' : 'none';\n",
              "    })();\n",
              "  </script>\n",
              "</div>\n",
              "\n",
              "    </div>\n",
              "  </div>\n"
            ],
            "application/vnd.google.colaboratory.intrinsic+json": {
              "type": "dataframe",
              "variable_name": "cobre_y",
              "summary": "{\n  \"name\": \"cobre_y\",\n  \"rows\": 948,\n  \"fields\": [\n    {\n      \"column\": \"Study\",\n      \"properties\": {\n        \"dtype\": \"category\",\n        \"num_unique_values\": 1,\n        \"samples\": [\n          \"COBRE\"\n        ],\n        \"semantic_type\": \"\",\n        \"description\": \"\"\n      }\n    },\n    {\n      \"column\": \"Projectid\",\n      \"properties\": {\n        \"dtype\": \"number\",\n        \"std\": 0,\n        \"min\": 1139,\n        \"max\": 1139,\n        \"num_unique_values\": 1,\n        \"samples\": [\n          1139\n        ],\n        \"semantic_type\": \"\",\n        \"description\": \"\"\n      }\n    },\n    {\n      \"column\": \"Description\",\n      \"properties\": {\n        \"dtype\": \"category\",\n        \"num_unique_values\": 1,\n        \"samples\": [\n          \"The Center for Biomedical Research Excellence (COBRE) examines the neural mechanisms of schizophrenia by integrating multiple neuroimaging methods with psychiatric, neuropsychological and genetic testing.\"\n        ],\n        \"semantic_type\": \"\",\n        \"description\": \"\"\n      }\n    },\n    {\n      \"column\": \"Subjectid\",\n      \"properties\": {\n        \"dtype\": \"category\",\n        \"num_unique_values\": 174,\n        \"samples\": [\n          \"A00036555\"\n        ],\n        \"semantic_type\": \"\",\n        \"description\": \"\"\n      }\n    },\n    {\n      \"column\": \"Age\",\n      \"properties\": {\n        \"dtype\": \"number\",\n        \"std\": 12,\n        \"min\": 18,\n        \"max\": 66,\n        \"num_unique_values\": 45,\n        \"samples\": [\n          47\n        ],\n        \"semantic_type\": \"\",\n        \"description\": \"\"\n      }\n    },\n    {\n      \"column\": \"Sex\",\n      \"properties\": {\n        \"dtype\": \"category\",\n        \"num_unique_values\": 2,\n        \"samples\": [\n          \"female\"\n        ],\n        \"semantic_type\": \"\",\n        \"description\": \"\"\n      }\n    },\n    {\n      \"column\": \"Dx\",\n      \"properties\": {\n        \"dtype\": \"category\",\n        \"num_unique_values\": 3,\n        \"samples\": [\n          \"No_Known_Disorder\"\n        ],\n        \"semantic_type\": \"\",\n        \"description\": \"\"\n      }\n    },\n    {\n      \"column\": \"Field_strength\",\n      \"properties\": {\n        \"dtype\": \"number\",\n        \"std\": 0,\n        \"min\": 3,\n        \"max\": 3,\n        \"num_unique_values\": 1,\n        \"samples\": [\n          3\n        ],\n        \"semantic_type\": \"\",\n        \"description\": \"\"\n      }\n    },\n    {\n      \"column\": \"Img_date\",\n      \"properties\": {\n        \"dtype\": \"object\",\n        \"num_unique_values\": 5,\n        \"samples\": [\n          \"2009-01-01 00:00:00.0\"\n        ],\n        \"semantic_type\": \"\",\n        \"description\": \"\"\n      }\n    },\n    {\n      \"column\": \"Datauri\",\n      \"properties\": {\n        \"dtype\": \"number\",\n        \"std\": 609002,\n        \"min\": 256570,\n        \"max\": 2294526,\n        \"num_unique_values\": 948,\n        \"samples\": [\n          273218\n        ],\n        \"semantic_type\": \"\",\n        \"description\": \"\"\n      }\n    },\n    {\n      \"column\": \"Maker\",\n      \"properties\": {\n        \"dtype\": \"category\",\n        \"num_unique_values\": 1,\n        \"samples\": [\n          \"Siemens\"\n        ],\n        \"semantic_type\": \"\",\n        \"description\": \"\"\n      }\n    },\n    {\n      \"column\": \"Model\",\n      \"properties\": {\n        \"dtype\": \"category\",\n        \"num_unique_values\": 1,\n        \"samples\": [\n          \"MIND TRIO 3.0T\"\n        ],\n        \"semantic_type\": \"\",\n        \"description\": \"\"\n      }\n    },\n    {\n      \"column\": \"Szc_protocol_hier\",\n      \"properties\": {\n        \"dtype\": \"category\",\n        \"num_unique_values\": 3,\n        \"samples\": [\n          \"Resting_State\"\n        ],\n        \"semantic_type\": \"\",\n        \"description\": \"\"\n      }\n    },\n    {\n      \"column\": \"Notes\",\n      \"properties\": {\n        \"dtype\": \"number\",\n        \"std\": null,\n        \"min\": null,\n        \"max\": null,\n        \"num_unique_values\": 0,\n        \"samples\": [],\n        \"semantic_type\": \"\",\n        \"description\": \"\"\n      }\n    },\n    {\n      \"column\": \"Imaging_protocol_site\",\n      \"properties\": {\n        \"dtype\": \"category\",\n        \"num_unique_values\": 1,\n        \"samples\": [],\n        \"semantic_type\": \"\",\n        \"description\": \"\"\n      }\n    },\n    {\n      \"column\": \"Visit\",\n      \"properties\": {\n        \"dtype\": \"number\",\n        \"std\": null,\n        \"min\": null,\n        \"max\": null,\n        \"num_unique_values\": 0,\n        \"samples\": [],\n        \"semantic_type\": \"\",\n        \"description\": \"\"\n      }\n    }\n  ]\n}"
            }
          },
          "metadata": {},
          "execution_count": 10
        }
      ],
      "source": [
        "cobre_y = pd.read_csv('cobre/cobre_targets.tsv', delimiter='\\t')\n",
        "cobre_y.head()"
      ]
    },
    {
      "cell_type": "code",
      "execution_count": 13,
      "metadata": {
        "scrolled": true,
        "id": "Q-6qffCj22GT"
      },
      "outputs": [],
      "source": [
        "cobre_splits = json.load(open('cobre/cobre_splits_new.json')) # here we also use the same train test splits as for classic ML\n",
        "train_ids = [i['train']+i['valid'] for i in cobre_splits['train']]\n",
        "train_ids = train_ids[0]+train_ids[1]+train_ids[2]+train_ids[3]+train_ids[4]\n",
        "train_ids = list(set(train_ids))\n",
        "test_ids = cobre_splits['test']\n",
        "group = np.array(cobre_y.Dx)"
      ]
    },
    {
      "cell_type": "code",
      "execution_count": 14,
      "metadata": {
        "id": "rv8G1DXt22GT"
      },
      "outputs": [],
      "source": [
        "X = []\n",
        "Y = []\n",
        "subj_ids = []\n",
        "missed_ids = []\n",
        "for subj, y in zip(train_ids+test_ids, group):\n",
        "    try:\n",
        "        X.append(np.array(pd.read_csv('cobre/aal/sub-'+subj+'.csv').drop('Unnamed: 0', axis=1)))\n",
        "        Y.append(y)\n",
        "        subj_ids.append(str(subj))\n",
        "    except:\n",
        "        missed_ids.append(str(subj))\n",
        "\n",
        "X = np.array(X)\n",
        "Y = np.array(Y)\n",
        "\n",
        "dict_X = dict(zip(subj_ids, X))\n",
        "dict_Y = dict(zip(cobre_y[cobre_y.Subjectid.isin(subj_ids)].Subjectid, cobre_y[cobre_y.Subjectid.isin(subj_ids)].Dx))\n",
        "xx, yy = dict_Y.keys(), dict_Y.values()\n",
        "yy = [1 if i == 'Schizophrenia_Strict' else 2 for i in yy]\n",
        "dict_Y = dict(zip(xx, yy))"
      ]
    },
    {
      "cell_type": "code",
      "execution_count": 15,
      "metadata": {
        "colab": {
          "base_uri": "https://localhost:8080/"
        },
        "id": "tjDMP9VR22GT",
        "outputId": "807e7421-0c1b-443c-8908-2a8b97ad9a61"
      },
      "outputs": [
        {
          "output_type": "stream",
          "name": "stderr",
          "text": [
            "<ipython-input-15-569deceedffe>:18: UserWarning: Creating a tensor from a list of numpy.ndarrays is extremely slow. Please consider converting the list to a single numpy.ndarray with numpy.array() before converting to a tensor. (Triggered internally at ../torch/csrc/utils/tensor_new.cpp:275.)\n",
            "  dataset = torch.utils.data.TensorDataset(torch.Tensor(train_inps).to(device), torch.cat(train_tgts, axis=0).to(device))\n"
          ]
        }
      ],
      "source": [
        "# creation of PyG dataloaders and common dataloaders\n",
        "# PyG data has specific batching\n",
        "\n",
        "train_inps, train_tgts = [], []\n",
        "train_loader_pyg = []\n",
        "for x, subj_id, y in zip(X, train_ids, Y):\n",
        "    train_loader_pyg.append(prepare_pyg_data(dict_X[subj_id], subj_id, dict_Y[subj_id]))\n",
        "    train_inps.append(dict_X[subj_id])\n",
        "    train_tgts.append(F.one_hot(torch.tensor([dict_Y[subj_id]-1]), num_classes=2).to(device))\n",
        "\n",
        "test_inps, test_tgts = [], []\n",
        "test_loader_pyg = []\n",
        "for x, subj_id, y in zip(X, test_ids, Y):\n",
        "    test_loader_pyg.append(prepare_pyg_data(dict_X[subj_id], subj_id, dict_Y[subj_id]))\n",
        "    test_inps.append(dict_X[subj_id])\n",
        "    test_tgts.append(F.one_hot(torch.tensor([dict_Y[subj_id]-1]), num_classes=2).to(device))\n",
        "\n",
        "dataset = torch.utils.data.TensorDataset(torch.Tensor(train_inps).to(device), torch.cat(train_tgts, axis=0).to(device))\n",
        "train_loader_cobre = torch.utils.data.DataLoader(dataset, batch_size=16)\n",
        "dataset = torch.utils.data.TensorDataset(torch.Tensor(test_inps).to(device), torch.cat(test_tgts, axis=0).to(device))\n",
        "test_loader_cobre = torch.utils.data.DataLoader(dataset, batch_size=16)\n",
        "\n",
        "train_loader_cobre_pyg = DataLoader(train_loader_pyg, batch_size=8)\n",
        "test_loader_cobre_pyg = DataLoader(test_loader_pyg, batch_size=8)"
      ]
    },
    {
      "cell_type": "code",
      "execution_count": 16,
      "metadata": {
        "colab": {
          "base_uri": "https://localhost:8080/"
        },
        "id": "_BK4EU6z22GT",
        "outputId": "3bfa1d46-a685-4f94-ec07-6ea815d71ffa"
      },
      "outputs": [
        {
          "output_type": "execute_result",
          "data": {
            "text/plain": [
              "(torch.Size([16, 116, 116]), torch.Size([16, 2]))"
            ]
          },
          "metadata": {},
          "execution_count": 16
        }
      ],
      "source": [
        "next(iter(train_loader_cobre))[0].shape, next(iter(train_loader_cobre))[1].shape"
      ]
    },
    {
      "cell_type": "code",
      "execution_count": 17,
      "metadata": {
        "colab": {
          "base_uri": "https://localhost:8080/"
        },
        "id": "IJxrkqQz22GT",
        "outputId": "d0960ce2-eef3-4ad8-f6c5-38975fede149"
      },
      "outputs": [
        {
          "output_type": "execute_result",
          "data": {
            "text/plain": [
              "DataBatch(x=[928, 116], edge_index=[2, 107648], edge_attr=[107648], y=[8, 2], num_nodes=928, subj_id=[8], batch=[928], ptr=[9])"
            ]
          },
          "metadata": {},
          "execution_count": 17
        }
      ],
      "source": [
        "next(iter(train_loader_cobre_pyg)) # x"
      ]
    },
    {
      "cell_type": "markdown",
      "metadata": {
        "id": "rITgZR4m22GT"
      },
      "source": [
        "# Train and evaluate functions"
      ]
    },
    {
      "cell_type": "code",
      "execution_count": 54,
      "metadata": {
        "id": "W_epJII722GT"
      },
      "outputs": [],
      "source": [
        "def evaluate(model, device, loader):\n",
        "    model.eval()  # Set model to evaluation mode\n",
        "\n",
        "    loss_all = 0\n",
        "    y_pred = []\n",
        "    y_true = []\n",
        "\n",
        "    with torch.no_grad():\n",
        "        for data in loader:\n",
        "            data = data.to(device)\n",
        "            out = model(data)\n",
        "\n",
        "            # Calculate binary cross-entropy from logits\n",
        "            loss = F.binary_cross_entropy_with_logits(out, data.y.float().to(device))\n",
        "            loss_all += loss.item()\n",
        "\n",
        "            # Convert logits to probabilities using sigmoid\n",
        "            probabilities = out.detach().cpu().numpy()\n",
        "            y_pred.extend(probabilities)\n",
        "            y_true.extend(data.y.detach().cpu().numpy())\n",
        "\n",
        "    y_pred = np.array(y_pred)\n",
        "    y_true = np.array(y_true)\n",
        "\n",
        "    f1, acc, roc_auc = f1_score(y_true.argmax(-1), y_pred.argmax(-1)), accuracy_score(y_true.argmax(-1), y_pred.argmax(-1)), roc_auc_score(y_true.argmax(-1), y_pred[:, 1])\n",
        "\n",
        "    return loss_all/len(loader.dataset), f1, acc, roc_auc, y_pred, y_true"
      ]
    },
    {
      "cell_type": "code",
      "execution_count": 55,
      "metadata": {
        "id": "KWDS1ip7Eh9g"
      },
      "outputs": [],
      "source": [
        "def train_and_evaluate(model, train_loader, test_loader, optimizer, scheduler=None, device='cuda', n_epochs=20, verbose=True):\n",
        "    model.train()  # Set model to train mode\n",
        "\n",
        "    # Initialize lists to store metrics and final predictions\n",
        "    metrics = {\n",
        "        'train_f1s': [],\n",
        "        'train_accs': [],\n",
        "        'train_roc_aucs': [],\n",
        "        'train_losses': [],\n",
        "        'test_f1s': [],\n",
        "        'test_accs': [],\n",
        "        'test_roc_aucs': [],\n",
        "        'test_losses': [],\n",
        "        'final_test_y_pred': None,\n",
        "        'final_test_y_true': None\n",
        "    }\n",
        "\n",
        "    for i in range(n_epochs):\n",
        "        loss_all = 0\n",
        "        for data in train_loader:\n",
        "            data = data.to(device)\n",
        "            optimizer.zero_grad()\n",
        "            out = model(data)\n",
        "            loss = F.cross_entropy(out, data.y.to(device).float())\n",
        "            loss.backward()\n",
        "            optimizer.step()\n",
        "            loss_all += loss.item()\n",
        "\n",
        "        if scheduler:\n",
        "            scheduler.step()\n",
        "\n",
        "        epoch_loss = loss_all / len(train_loader.dataset)\n",
        "        metrics['train_losses'].append(epoch_loss)\n",
        "\n",
        "        train_loss, train_f1, train_acc, train_roc_auc, _, _ = evaluate(model, device, train_loader)\n",
        "        metrics['train_f1s'].append(train_f1)\n",
        "        metrics['train_accs'].append(train_acc)\n",
        "        metrics['train_roc_aucs'].append(train_roc_auc)\n",
        "\n",
        "        test_loss, test_f1, test_acc, test_roc_auc, test_y_pred, test_y_true = evaluate(model, device, test_loader)\n",
        "        metrics['test_losses'].append(test_loss)\n",
        "        metrics['test_f1s'].append(test_f1)\n",
        "        metrics['test_accs'].append(test_acc)\n",
        "        metrics['test_roc_aucs'].append(test_roc_auc)\n",
        "\n",
        "        if i == n_epochs - 1:  # Save predictions from the last epoch\n",
        "            metrics['final_test_y_pred'] = test_y_pred\n",
        "            metrics['final_test_y_true'] = test_y_true\n",
        "\n",
        "        if verbose:\n",
        "            print(f'(Epoch {i}) | Train Loss: {epoch_loss:.4f}, Test Loss: {test_loss:.4f}, Test Acc: {test_acc * 100:.2f}%')\n",
        "\n",
        "    return metrics"
      ]
    },
    {
      "cell_type": "markdown",
      "metadata": {
        "id": "2LvoMSBg22Gb"
      },
      "source": [
        "# Neurograph\n",
        "main idea of architechture was taken from https://github.com/gennadylaptev/neurograph/tree/main/neurograph with additions"
      ]
    },
    {
      "cell_type": "code",
      "execution_count": 56,
      "metadata": {
        "id": "Jh0lWGSg22Gb"
      },
      "outputs": [],
      "source": [
        "@dataclass\n",
        "class MLPlayer:\n",
        "    \"\"\" Config of one MLP layer \"\"\"\n",
        "    out_size: int = 10\n",
        "    act_func: Optional[str] = 'ReLU'\n",
        "    act_func_params: Optional[dict] = None\n",
        "    dropout: Optional[float] = None"
      ]
    },
    {
      "cell_type": "code",
      "execution_count": 57,
      "metadata": {
        "id": "1aZu7fJa22Gb"
      },
      "outputs": [],
      "source": [
        "@dataclass\n",
        "class MLPConfig:\n",
        "    \"\"\" Config of MLP model \"\"\"\n",
        "    # layers define only hidden dimensions, so final MLP will have n+1 layer.\n",
        "    # So, if you want to create a 1-layer network, just leave layers empty\n",
        "\n",
        "    # in and out sizes are optional and usually depend on upstream model and the task\n",
        "    # for now, they are ignored\n",
        "    in_size: Optional[int] = None\n",
        "    out_size: Optional[int] = None\n",
        "\n",
        "    # act func for the last layer. None -> no activation function\n",
        "    act_func: Optional[str] = None\n",
        "    act_func_params: Optional[dict] = None\n",
        "    layers: List[MLPlayer] = field(default_factory=lambda: [\n",
        "        MLPlayer(\n",
        "            out_size=32, dropout=0.6, act_func='LeakyReLU', act_func_params=dict(negative_slope=0.2)\n",
        "        ),\n",
        "        MLPlayer(\n",
        "            out_size=32, dropout=0.6, act_func='LeakyReLU', act_func_params=dict(negative_slope=0.2)\n",
        "        ),\n",
        "    ])"
      ]
    },
    {
      "cell_type": "code",
      "execution_count": 58,
      "metadata": {
        "id": "vdigGTVZ22Gb"
      },
      "outputs": [],
      "source": [
        "def build_mlp_layer(in_size: int, layer: MLPlayer) -> nn.Sequential:\n",
        "    \"\"\" Factory that returns nn.Sequential from input size and MLPlayer \"\"\"\n",
        "    act_params = layer.act_func_params if layer.act_func_params else {}\n",
        "\n",
        "    lst: list[nn.Module] = [nn.Linear(in_size, layer.out_size)]\n",
        "    #lst.append(\n",
        "    if layer.act_func:\n",
        "        lst.append(nn.LeakyReLU(**act_params)) # available_activations[layer.act_func](**act_params))\n",
        "    if layer.dropout:\n",
        "        lst.append(nn.Dropout(layer.dropout, inplace=True))\n",
        "    return nn.Sequential(*lst)"
      ]
    },
    {
      "cell_type": "code",
      "execution_count": 59,
      "metadata": {
        "id": "p8GS7Jx122Gb"
      },
      "outputs": [],
      "source": [
        "@dataclass\n",
        "class ModelConfig:\n",
        "    \"\"\" Base class for model config \"\"\"\n",
        "    name: str  # see neurograph.models/\n",
        "    n_classes: int  # must match with loss\n",
        "\n",
        "    data_type: str"
      ]
    },
    {
      "cell_type": "code",
      "execution_count": 60,
      "metadata": {
        "id": "NMLVZxQq22Gb"
      },
      "outputs": [],
      "source": [
        "class BasicMLP(nn.Module):\n",
        "    \"\"\" Basic MLP class \"\"\"\n",
        "    def __init__(self, in_size: int, out_size: int, config: MLPConfig):\n",
        "        super().__init__()\n",
        "        self.in_size = in_size\n",
        "        self.out_size = out_size\n",
        "\n",
        "        self.net = nn.Sequential()\n",
        "        curr_size = self.in_size\n",
        "        for layer_conf in config.layers:\n",
        "            subnet = build_mlp_layer(curr_size, layer_conf)\n",
        "            self.net.append(subnet)\n",
        "            curr_size = layer_conf.out_size\n",
        "\n",
        "        # the last layer\n",
        "        self.net.append(build_mlp_layer(\n",
        "            curr_size,\n",
        "            MLPlayer(\n",
        "                out_size=self.out_size,\n",
        "                act_func=config.act_func,\n",
        "                act_func_params=config.act_func_params,\n",
        "            ),\n",
        "        ))\n",
        "\n",
        "    def forward(self, x):\n",
        "        return self.net(x)"
      ]
    },
    {
      "cell_type": "code",
      "execution_count": 61,
      "metadata": {
        "id": "dIrxpXgD22Gb"
      },
      "outputs": [],
      "source": [
        "def build_gat_block(\n",
        "    input_dim: int,\n",
        "    hidden_dim: int,\n",
        "    proj_dim: Optional[int] = None,\n",
        "    num_heads: int = 1,\n",
        "    dropout: float = 0.0,\n",
        "    use_batchnorm: bool = True,\n",
        "    use_abs_weight: bool = True,\n",
        "):\n",
        "    proj_dim = hidden_dim if proj_dim is None else proj_dim\n",
        "    return pygSequential(\n",
        "        'x, edge_index, edge_attr',\n",
        "        [\n",
        "            (\n",
        "                GATConv(\n",
        "                    input_dim,\n",
        "                    hidden_dim,\n",
        "                    heads=num_heads,\n",
        "                    dropout=dropout,\n",
        "                    concat=True,\n",
        "                ),\n",
        "                'x, edge_index, edge_attr -> x'\n",
        "            ),\n",
        "            nn.Linear(hidden_dim * num_heads, proj_dim),\n",
        "            nn.LeakyReLU(negative_slope = 0.2),\n",
        "            nn.Dropout(p=dropout)\n",
        "        ]\n",
        "    )"
      ]
    },
    {
      "cell_type": "code",
      "execution_count": 62,
      "metadata": {
        "id": "HEREiQHI22Gb"
      },
      "outputs": [],
      "source": [
        "def concat_pool(x: torch.Tensor, input_dim: int, num_nodes: int) -> torch.Tensor:\n",
        "    # NB: x must be a batch of xs\n",
        "    return x.reshape((x.shape[0] // input_dim, input_dim*x.shape[-1]))"
      ]
    },
    {
      "cell_type": "code",
      "execution_count": 63,
      "metadata": {
        "id": "jvvIuCd322Gb"
      },
      "outputs": [],
      "source": [
        "class BrainGAT(nn.Module):\n",
        "    def __init__(\n",
        "        self,\n",
        "        # determined by dataset\n",
        "        input_dim: int,\n",
        "        num_nodes: int,\n",
        "        num_classes: int\n",
        "    ):\n",
        "        \"\"\"\n",
        "        Architecture:\n",
        "            - a list of GATConv blocks (n-1)\n",
        "            - the last layer GATConv block with diff final embedding size\n",
        "            - (prepool projection layer)\n",
        "            - pooling -> graph embeddgin\n",
        "            - fcn clf\n",
        "        \"\"\"\n",
        "        super().__init__()\n",
        "\n",
        "        self.convs = torch.nn.ModuleList()\n",
        "        self.input_dim = input_dim\n",
        "        self.num_nodes = num_nodes\n",
        "\n",
        "        num_classes = num_classes\n",
        "        hidden_dim = 32\n",
        "\n",
        "        num_layers = 3\n",
        "\n",
        "        use_batchnorm = True\n",
        "        use_abs_weight = True\n",
        "        # mp_type = 'node_concate'\n",
        "        dropout = 0\n",
        "\n",
        "        num_heads = 2\n",
        "\n",
        "        # pack a bunch of convs into a ModuleList\n",
        "        gat_input_dim = input_dim\n",
        "        for _ in range(num_layers - 1):\n",
        "            conv = build_gat_block(\n",
        "                gat_input_dim,\n",
        "                hidden_dim,\n",
        "                proj_dim=None,\n",
        "                # mp_type=mp_type,\n",
        "                num_heads=num_heads,\n",
        "                dropout=dropout,\n",
        "                use_batchnorm=use_batchnorm,\n",
        "                use_abs_weight=use_abs_weight,\n",
        "            )\n",
        "            # update current input_dim\n",
        "            gat_input_dim = hidden_dim\n",
        "            self.convs.append(conv)\n",
        "\n",
        "        # gat block return embeddings of `inter_dim` size\n",
        "        conv = build_gat_block(\n",
        "            gat_input_dim,\n",
        "            hidden_dim,\n",
        "            proj_dim=64,\n",
        "            # mp_type=mp_type,\n",
        "            num_heads=num_heads,\n",
        "            dropout=dropout,\n",
        "            use_batchnorm=False,  # batchnorm is applied in prepool layer\n",
        "            use_abs_weight=use_abs_weight,\n",
        "        )\n",
        "        # add extra projection and batchnorm\n",
        "        self.prepool = nn.Sequential(\n",
        "            nn.Linear(64, 8),\n",
        "            nn.LeakyReLU(negative_slope=0.2),\n",
        "            nn.BatchNorm1d(8) if use_batchnorm else nn.Identity(),\n",
        "        )\n",
        "\n",
        "        fcn_dim = 8 * num_nodes\n",
        "\n",
        "        # add last conv layer\n",
        "        self.convs.append(conv)\n",
        "\n",
        "        self.fcn = BasicMLP(in_size=fcn_dim, out_size=num_classes, config=MLPConfig())\n",
        "\n",
        "    def forward(self, data):\n",
        "        x, edge_index, edge_attr, batch = data.x, data.edge_index, data.edge_attr, data.batch\n",
        "        z = x\n",
        "        z = z.float()\n",
        "\n",
        "        # apply conv layers\n",
        "        for _, conv in enumerate(self.convs):\n",
        "            z = conv(z, edge_index, edge_attr)\n",
        "\n",
        "        # prepool dim reduction\n",
        "        z = self.prepool(z)\n",
        "\n",
        "        z = nn.BatchNorm1d(num_features=z.shape[-1], eps=1e-05, momentum=0.1, affine=True, track_running_stats=True).to(device)(z)\n",
        "\n",
        "        # pooling\n",
        "        z = concat_pool(z, self.input_dim, self.num_nodes)\n",
        "        # FCN clf on graph embedding\n",
        "        z = nn.BatchNorm1d(num_features=z.shape[-1], eps=1e-05, momentum=0.1, affine=True, track_running_stats=True).to(device)(z)\n",
        "        out = self.fcn(z)\n",
        "        out=nn.Softmax(dim=-1)(out)\n",
        "        return out"
      ]
    },
    {
      "cell_type": "markdown",
      "metadata": {
        "id": "dH2GJq-C22Gc"
      },
      "source": [
        "## COBRE"
      ]
    },
    {
      "cell_type": "code",
      "execution_count": 64,
      "metadata": {
        "id": "4i-J1Q4A22Gc"
      },
      "outputs": [],
      "source": [
        "bgbGAT = BrainGAT(116, 116, 2)\n",
        "bgbGAT = bgbGAT.to(device)\n",
        "bgbGAT = bgbGAT.float()\n",
        "optimizer = torch.optim.AdamW(bgbGAT.parameters(), lr=0.001)"
      ]
    },
    {
      "cell_type": "code",
      "execution_count": 65,
      "metadata": {
        "colab": {
          "base_uri": "https://localhost:8080/"
        },
        "id": "1UAJ8xix22Gc",
        "outputId": "af40bf11-2cb0-45bb-9362-f114f6de8cf6"
      },
      "outputs": [
        {
          "output_type": "stream",
          "name": "stdout",
          "text": [
            "(Epoch 0) | Train Loss: 0.0871, Test Loss: 0.1145, Test Acc: 50.00%\n",
            "(Epoch 1) | Train Loss: 0.0830, Test Loss: 0.1144, Test Acc: 50.00%\n",
            "(Epoch 2) | Train Loss: 0.0811, Test Loss: 0.1140, Test Acc: 53.85%\n",
            "(Epoch 3) | Train Loss: 0.0782, Test Loss: 0.1143, Test Acc: 57.69%\n",
            "(Epoch 4) | Train Loss: 0.0708, Test Loss: 0.1177, Test Acc: 57.69%\n",
            "(Epoch 5) | Train Loss: 0.0630, Test Loss: 0.1211, Test Acc: 46.15%\n",
            "(Epoch 6) | Train Loss: 0.0608, Test Loss: 0.1189, Test Acc: 50.00%\n",
            "(Epoch 7) | Train Loss: 0.0605, Test Loss: 0.1172, Test Acc: 57.69%\n",
            "(Epoch 8) | Train Loss: 0.0557, Test Loss: 0.1175, Test Acc: 57.69%\n",
            "(Epoch 9) | Train Loss: 0.0552, Test Loss: 0.1179, Test Acc: 57.69%\n",
            "(Epoch 10) | Train Loss: 0.0597, Test Loss: 0.1107, Test Acc: 73.08%\n",
            "(Epoch 11) | Train Loss: 0.0526, Test Loss: 0.1125, Test Acc: 61.54%\n",
            "(Epoch 12) | Train Loss: 0.0527, Test Loss: 0.0987, Test Acc: 69.23%\n",
            "(Epoch 13) | Train Loss: 0.0548, Test Loss: 0.1204, Test Acc: 53.85%\n",
            "(Epoch 14) | Train Loss: 0.0551, Test Loss: 0.1163, Test Acc: 61.54%\n",
            "(Epoch 15) | Train Loss: 0.0524, Test Loss: 0.1105, Test Acc: 65.38%\n",
            "(Epoch 16) | Train Loss: 0.0498, Test Loss: 0.1115, Test Acc: 69.23%\n",
            "(Epoch 17) | Train Loss: 0.0482, Test Loss: 0.1127, Test Acc: 65.38%\n",
            "(Epoch 18) | Train Loss: 0.0472, Test Loss: 0.1131, Test Acc: 65.38%\n",
            "(Epoch 19) | Train Loss: 0.0464, Test Loss: 0.1156, Test Acc: 61.54%\n",
            "(Epoch 20) | Train Loss: 0.0462, Test Loss: 0.1121, Test Acc: 65.38%\n",
            "(Epoch 21) | Train Loss: 0.0474, Test Loss: 0.1132, Test Acc: 65.38%\n",
            "(Epoch 22) | Train Loss: 0.0547, Test Loss: 0.1185, Test Acc: 57.69%\n",
            "(Epoch 23) | Train Loss: 0.0491, Test Loss: 0.0951, Test Acc: 69.23%\n",
            "(Epoch 24) | Train Loss: 0.0503, Test Loss: 0.1153, Test Acc: 61.54%\n",
            "(Epoch 25) | Train Loss: 0.0511, Test Loss: 0.1156, Test Acc: 61.54%\n",
            "(Epoch 26) | Train Loss: 0.0478, Test Loss: 0.0923, Test Acc: 76.92%\n",
            "(Epoch 27) | Train Loss: 0.0458, Test Loss: 0.1180, Test Acc: 57.69%\n",
            "(Epoch 28) | Train Loss: 0.0476, Test Loss: 0.0950, Test Acc: 73.08%\n",
            "(Epoch 29) | Train Loss: 0.0489, Test Loss: 0.1119, Test Acc: 65.38%\n",
            "(Epoch 30) | Train Loss: 0.0475, Test Loss: 0.1131, Test Acc: 65.38%\n",
            "(Epoch 31) | Train Loss: 0.0458, Test Loss: 0.0931, Test Acc: 76.92%\n",
            "(Epoch 32) | Train Loss: 0.0531, Test Loss: 0.1179, Test Acc: 57.69%\n",
            "(Epoch 33) | Train Loss: 0.0484, Test Loss: 0.1192, Test Acc: 57.69%\n",
            "(Epoch 34) | Train Loss: 0.0503, Test Loss: 0.1106, Test Acc: 69.23%\n",
            "(Epoch 35) | Train Loss: 0.0470, Test Loss: 0.1153, Test Acc: 61.54%\n",
            "(Epoch 36) | Train Loss: 0.0470, Test Loss: 0.1146, Test Acc: 61.54%\n",
            "(Epoch 37) | Train Loss: 0.0502, Test Loss: 0.1134, Test Acc: 65.38%\n",
            "(Epoch 38) | Train Loss: 0.0463, Test Loss: 0.1152, Test Acc: 61.54%\n",
            "(Epoch 39) | Train Loss: 0.0456, Test Loss: 0.1142, Test Acc: 61.54%\n",
            "(Epoch 40) | Train Loss: 0.0453, Test Loss: 0.1138, Test Acc: 65.38%\n",
            "(Epoch 41) | Train Loss: 0.0453, Test Loss: 0.1138, Test Acc: 65.38%\n",
            "(Epoch 42) | Train Loss: 0.0453, Test Loss: 0.1139, Test Acc: 65.38%\n",
            "(Epoch 43) | Train Loss: 0.0453, Test Loss: 0.1140, Test Acc: 65.38%\n",
            "(Epoch 44) | Train Loss: 0.0453, Test Loss: 0.1140, Test Acc: 65.38%\n",
            "(Epoch 45) | Train Loss: 0.0453, Test Loss: 0.1140, Test Acc: 65.38%\n",
            "(Epoch 46) | Train Loss: 0.0453, Test Loss: 0.1140, Test Acc: 65.38%\n",
            "(Epoch 47) | Train Loss: 0.0453, Test Loss: 0.1141, Test Acc: 65.38%\n",
            "(Epoch 48) | Train Loss: 0.0453, Test Loss: 0.1141, Test Acc: 65.38%\n",
            "(Epoch 49) | Train Loss: 0.0453, Test Loss: 0.1141, Test Acc: 65.38%\n",
            "(Epoch 50) | Train Loss: 0.0453, Test Loss: 0.1141, Test Acc: 65.38%\n",
            "(Epoch 51) | Train Loss: 0.0453, Test Loss: 0.1141, Test Acc: 65.38%\n",
            "(Epoch 52) | Train Loss: 0.0453, Test Loss: 0.1141, Test Acc: 65.38%\n",
            "(Epoch 53) | Train Loss: 0.0453, Test Loss: 0.1141, Test Acc: 65.38%\n",
            "(Epoch 54) | Train Loss: 0.0453, Test Loss: 0.1141, Test Acc: 65.38%\n",
            "(Epoch 55) | Train Loss: 0.0453, Test Loss: 0.1141, Test Acc: 65.38%\n",
            "(Epoch 56) | Train Loss: 0.0453, Test Loss: 0.1141, Test Acc: 65.38%\n",
            "(Epoch 57) | Train Loss: 0.0453, Test Loss: 0.1141, Test Acc: 65.38%\n",
            "(Epoch 58) | Train Loss: 0.0453, Test Loss: 0.1141, Test Acc: 65.38%\n",
            "(Epoch 59) | Train Loss: 0.0453, Test Loss: 0.1141, Test Acc: 65.38%\n"
          ]
        }
      ],
      "source": [
        "metrics = train_and_evaluate(\n",
        "    bgbGAT,\n",
        "    train_loader_cobre_pyg,\n",
        "    test_loader_cobre_pyg,\n",
        "    optimizer,\n",
        "    scheduler=None,\n",
        "    device=device,\n",
        "    n_epochs=60\n",
        ")"
      ]
    },
    {
      "cell_type": "code",
      "execution_count": 66,
      "metadata": {
        "colab": {
          "base_uri": "https://localhost:8080/",
          "height": 1000
        },
        "id": "GVqMPyvR22Gc",
        "outputId": "dfe40382-addd-4dd3-97d4-1643c85bbae3"
      },
      "outputs": [
        {
          "output_type": "error",
          "ename": "ValueError",
          "evalue": "multilabel-indicator format is not supported",
          "traceback": [
            "\u001b[0;31m---------------------------------------------------------------------------\u001b[0m",
            "\u001b[0;31mValueError\u001b[0m                                Traceback (most recent call last)",
            "\u001b[0;32m<ipython-input-66-ddc595fc100b>\u001b[0m in \u001b[0;36m<cell line: 85>\u001b[0;34m()\u001b[0m\n\u001b[1;32m     83\u001b[0m     \u001b[0mplt\u001b[0m\u001b[0;34m.\u001b[0m\u001b[0mshow\u001b[0m\u001b[0;34m(\u001b[0m\u001b[0;34m)\u001b[0m\u001b[0;34m\u001b[0m\u001b[0;34m\u001b[0m\u001b[0m\n\u001b[1;32m     84\u001b[0m \u001b[0;34m\u001b[0m\u001b[0m\n\u001b[0;32m---> 85\u001b[0;31m \u001b[0mplot_performance\u001b[0m\u001b[0;34m(\u001b[0m\u001b[0mres_bgbgat_cobre\u001b[0m\u001b[0;34m)\u001b[0m\u001b[0;34m\u001b[0m\u001b[0;34m\u001b[0m\u001b[0m\n\u001b[0m",
            "\u001b[0;32m<ipython-input-66-ddc595fc100b>\u001b[0m in \u001b[0;36mplot_performance\u001b[0;34m(res_bgbgat_cobre)\u001b[0m\n\u001b[1;32m     49\u001b[0m \u001b[0;34m\u001b[0m\u001b[0m\n\u001b[1;32m     50\u001b[0m     \u001b[0;32mfor\u001b[0m \u001b[0mres\u001b[0m \u001b[0;32min\u001b[0m \u001b[0mres_bgbgat_cobre\u001b[0m\u001b[0;34m:\u001b[0m\u001b[0;34m\u001b[0m\u001b[0;34m\u001b[0m\u001b[0m\n\u001b[0;32m---> 51\u001b[0;31m         \u001b[0mfpr\u001b[0m\u001b[0;34m,\u001b[0m \u001b[0mtpr\u001b[0m\u001b[0;34m,\u001b[0m \u001b[0mthresholds\u001b[0m \u001b[0;34m=\u001b[0m \u001b[0mroc_curve\u001b[0m\u001b[0;34m(\u001b[0m\u001b[0mres\u001b[0m\u001b[0;34m[\u001b[0m\u001b[0;34m'final_test_y_true'\u001b[0m\u001b[0;34m]\u001b[0m\u001b[0;34m,\u001b[0m \u001b[0mres\u001b[0m\u001b[0;34m[\u001b[0m\u001b[0;34m'final_test_y_pred'\u001b[0m\u001b[0;34m]\u001b[0m\u001b[0;34m)\u001b[0m\u001b[0;34m\u001b[0m\u001b[0;34m\u001b[0m\u001b[0m\n\u001b[0m\u001b[1;32m     52\u001b[0m         \u001b[0mroc_auc\u001b[0m \u001b[0;34m=\u001b[0m \u001b[0mauc\u001b[0m\u001b[0;34m(\u001b[0m\u001b[0mfpr\u001b[0m\u001b[0;34m,\u001b[0m \u001b[0mtpr\u001b[0m\u001b[0;34m)\u001b[0m\u001b[0;34m\u001b[0m\u001b[0;34m\u001b[0m\u001b[0m\n\u001b[1;32m     53\u001b[0m         \u001b[0mtprs\u001b[0m\u001b[0;34m.\u001b[0m\u001b[0mappend\u001b[0m\u001b[0;34m(\u001b[0m\u001b[0mnp\u001b[0m\u001b[0;34m.\u001b[0m\u001b[0minterp\u001b[0m\u001b[0;34m(\u001b[0m\u001b[0mmean_fpr\u001b[0m\u001b[0;34m,\u001b[0m \u001b[0mfpr\u001b[0m\u001b[0;34m,\u001b[0m \u001b[0mtpr\u001b[0m\u001b[0;34m)\u001b[0m\u001b[0;34m)\u001b[0m\u001b[0;34m\u001b[0m\u001b[0;34m\u001b[0m\u001b[0m\n",
            "\u001b[0;32m/usr/local/lib/python3.10/dist-packages/sklearn/metrics/_ranking.py\u001b[0m in \u001b[0;36mroc_curve\u001b[0;34m(y_true, y_score, pos_label, sample_weight, drop_intermediate)\u001b[0m\n\u001b[1;32m    990\u001b[0m     \u001b[0marray\u001b[0m\u001b[0;34m(\u001b[0m\u001b[0;34m[\u001b[0m\u001b[0;36m1.8\u001b[0m \u001b[0;34m,\u001b[0m \u001b[0;36m0.8\u001b[0m \u001b[0;34m,\u001b[0m \u001b[0;36m0.4\u001b[0m \u001b[0;34m,\u001b[0m \u001b[0;36m0.35\u001b[0m\u001b[0;34m,\u001b[0m \u001b[0;36m0.1\u001b[0m \u001b[0;34m]\u001b[0m\u001b[0;34m)\u001b[0m\u001b[0;34m\u001b[0m\u001b[0;34m\u001b[0m\u001b[0m\n\u001b[1;32m    991\u001b[0m     \"\"\"\n\u001b[0;32m--> 992\u001b[0;31m     fps, tps, thresholds = _binary_clf_curve(\n\u001b[0m\u001b[1;32m    993\u001b[0m         \u001b[0my_true\u001b[0m\u001b[0;34m,\u001b[0m \u001b[0my_score\u001b[0m\u001b[0;34m,\u001b[0m \u001b[0mpos_label\u001b[0m\u001b[0;34m=\u001b[0m\u001b[0mpos_label\u001b[0m\u001b[0;34m,\u001b[0m \u001b[0msample_weight\u001b[0m\u001b[0;34m=\u001b[0m\u001b[0msample_weight\u001b[0m\u001b[0;34m\u001b[0m\u001b[0;34m\u001b[0m\u001b[0m\n\u001b[1;32m    994\u001b[0m     )\n",
            "\u001b[0;32m/usr/local/lib/python3.10/dist-packages/sklearn/metrics/_ranking.py\u001b[0m in \u001b[0;36m_binary_clf_curve\u001b[0;34m(y_true, y_score, pos_label, sample_weight)\u001b[0m\n\u001b[1;32m    747\u001b[0m     \u001b[0my_type\u001b[0m \u001b[0;34m=\u001b[0m \u001b[0mtype_of_target\u001b[0m\u001b[0;34m(\u001b[0m\u001b[0my_true\u001b[0m\u001b[0;34m,\u001b[0m \u001b[0minput_name\u001b[0m\u001b[0;34m=\u001b[0m\u001b[0;34m\"y_true\"\u001b[0m\u001b[0;34m)\u001b[0m\u001b[0;34m\u001b[0m\u001b[0;34m\u001b[0m\u001b[0m\n\u001b[1;32m    748\u001b[0m     \u001b[0;32mif\u001b[0m \u001b[0;32mnot\u001b[0m \u001b[0;34m(\u001b[0m\u001b[0my_type\u001b[0m \u001b[0;34m==\u001b[0m \u001b[0;34m\"binary\"\u001b[0m \u001b[0;32mor\u001b[0m \u001b[0;34m(\u001b[0m\u001b[0my_type\u001b[0m \u001b[0;34m==\u001b[0m \u001b[0;34m\"multiclass\"\u001b[0m \u001b[0;32mand\u001b[0m \u001b[0mpos_label\u001b[0m \u001b[0;32mis\u001b[0m \u001b[0;32mnot\u001b[0m \u001b[0;32mNone\u001b[0m\u001b[0;34m)\u001b[0m\u001b[0;34m)\u001b[0m\u001b[0;34m:\u001b[0m\u001b[0;34m\u001b[0m\u001b[0;34m\u001b[0m\u001b[0m\n\u001b[0;32m--> 749\u001b[0;31m         \u001b[0;32mraise\u001b[0m \u001b[0mValueError\u001b[0m\u001b[0;34m(\u001b[0m\u001b[0;34m\"{0} format is not supported\"\u001b[0m\u001b[0;34m.\u001b[0m\u001b[0mformat\u001b[0m\u001b[0;34m(\u001b[0m\u001b[0my_type\u001b[0m\u001b[0;34m)\u001b[0m\u001b[0;34m)\u001b[0m\u001b[0;34m\u001b[0m\u001b[0;34m\u001b[0m\u001b[0m\n\u001b[0m\u001b[1;32m    750\u001b[0m \u001b[0;34m\u001b[0m\u001b[0m\n\u001b[1;32m    751\u001b[0m     \u001b[0mcheck_consistent_length\u001b[0m\u001b[0;34m(\u001b[0m\u001b[0my_true\u001b[0m\u001b[0;34m,\u001b[0m \u001b[0my_score\u001b[0m\u001b[0;34m,\u001b[0m \u001b[0msample_weight\u001b[0m\u001b[0;34m)\u001b[0m\u001b[0;34m\u001b[0m\u001b[0;34m\u001b[0m\u001b[0m\n",
            "\u001b[0;31mValueError\u001b[0m: multilabel-indicator format is not supported"
          ]
        },
        {
          "output_type": "display_data",
          "data": {
            "text/plain": [
              "<Figure size 1200x1000 with 4 Axes>"
            ],
            "image/png": "[encoded data removed]"
          },
          "metadata": {}
        }
      ],
      "source": [
        "def train_and_collect_data():\n",
        "    res_bgbgat_cobre = []\n",
        "    for _ in range(10):\n",
        "        bgbGAT = BrainGAT(116, 116, 2)\n",
        "        bgbGAT = bgbGAT.to(device)\n",
        "        bgbGAT = bgbGAT.float()\n",
        "        optimizer = torch.optim.AdamW(bgbGAT.parameters(), lr=0.001)\n",
        "        res = train_and_evaluate(\n",
        "            bgbGAT,\n",
        "            train_loader_cobre_pyg,\n",
        "            test_loader_cobre_pyg,\n",
        "            optimizer,\n",
        "            scheduler=None,\n",
        "            device=device,\n",
        "            n_epochs=60,\n",
        "            verbose=False\n",
        "        )\n",
        "        res_bgbgat_cobre.append(res)\n",
        "    return res_bgbgat_cobre\n",
        "\n",
        "res_bgbgat_cobre = train_and_collect_data()"
      ]
    },
    {
      "cell_type": "code",
      "source": [
        "def plot_performance(res_bgbgat_cobre):\n",
        "    n_classes = 2  # Specify the number of classes if not binary\n",
        "    fig, ax = plt.subplots(figsize=(6, 4))  # Single plot\n",
        "\n",
        "    # Prepare ROC curve data\n",
        "    mean_fpr = np.linspace(0, 1, 100)\n",
        "    tprs = [[] for _ in range(n_classes)]\n",
        "    aucs = [[] for _ in range(n_classes)]\n",
        "\n",
        "    # Accumulate ROC data from all runs\n",
        "    for res in res_bgbgat_cobre:\n",
        "        y_true = label_binarize(res['final_test_y_true'], classes=[i for i in range(n_classes)])\n",
        "        if y_true.shape[1] == 1:  # Handle binary case\n",
        "            y_true = np.hstack([1 - y_true, y_true])\n",
        "\n",
        "        for i in range(n_classes):\n",
        "            fpr, tpr, _ = roc_curve(y_true[:, i], res['final_test_y_pred'][:, i])\n",
        "            roc_auc = auc(fpr, tpr)\n",
        "            tprs[i].append(np.interp(mean_fpr, fpr, tpr))\n",
        "            tprs[i][-1][0] = 0.0\n",
        "            aucs[i].append(roc_auc)\n",
        "\n",
        "    # Plot ROC curves for each class\n",
        "    for i in range(n_classes):\n",
        "        mean_tpr = np.mean(tprs[i], axis=0)\n",
        "        mean_tpr[-1] = 1.0\n",
        "        mean_auc = auc(mean_fpr, mean_tpr)\n",
        "        std_auc = np.std(aucs[i])\n",
        "        ax.plot(mean_fpr, mean_tpr, label=f'Class {i} (AUC = {mean_auc:.2f} ± {std_auc:.2f})')\n",
        "\n",
        "    # Add chance line, labels, legend, and title\n",
        "    ax.plot([0, 1], [0, 1], 'k--', label='Chance (AUC = 0.50)')\n",
        "    ax.set_xlim([0, 1])\n",
        "    ax.set_ylim([0, 1.05])\n",
        "    ax.set_xlabel('False Positive Rate')\n",
        "    ax.set_ylabel('True Positive Rate')\n",
        "    ax.set_title('Receiver Operating Characteristic')\n",
        "    ax.legend(loc=\"lower right\")\n",
        "\n",
        "    plt.show()\n",
        "\n",
        "# Example usage\n",
        "plot_performance(res_bgbgat_cobre)"
      ],
      "metadata": {
        "colab": {
          "base_uri": "https://localhost:8080/",
          "height": 410
        },
        "id": "v8ALtwVGsIul",
        "outputId": "30fce0b4-3774-449e-a463-107c6540f538"
      },
      "execution_count": 77,
      "outputs": [
        {
          "output_type": "display_data",
          "data": {
            "text/plain": [
              "<Figure size 600x400 with 1 Axes>"
            ],
            "image/png": "[encoded data removed]"
          },
          "metadata": {}
        }
      ]
    },
    {
      "cell_type": "code",
      "source": [
        "def plot_performance_metrics(res_bgbgat_cobre):\n",
        "    fig, axes = plt.subplots(2, 2, figsize=(12, 10))\n",
        "\n",
        "    # Aggregate the metrics from each run\n",
        "    all_train_losses = np.array([run['train_losses'] for run in res_bgbgat_cobre])\n",
        "    all_test_losses = np.array([run['test_losses'] for run in res_bgbgat_cobre])\n",
        "    all_train_f1s = np.array([run['train_f1s'] for run in res_bgbgat_cobre])\n",
        "    all_test_f1s = np.array([run['test_f1s'] for run in res_bgbgat_cobre])\n",
        "    all_train_accs = np.array([run['train_accs'] for run in res_bgbgat_cobre])\n",
        "    all_test_accs = np.array([run['test_accs'] for run in res_bgbgat_cobre])\n",
        "\n",
        "    epochs = range(len(all_train_losses[0]))\n",
        "\n",
        "    # Plot Training and Testing Losses\n",
        "    axes[0, 0].plot(epochs, np.mean(all_train_losses, axis=0), label='Average Train Loss')\n",
        "    axes[0, 0].plot(epochs, np.mean(all_test_losses, axis=0), label='Average Test Loss', linestyle='--')\n",
        "    axes[0, 0].set_title('Train vs Test Loss')\n",
        "    axes[0, 0].set_xlabel('Epoch')\n",
        "    axes[0, 0].set_ylabel('Loss')\n",
        "    axes[0, 0].legend()\n",
        "\n",
        "    # Plot Training and Testing Accuracy\n",
        "    axes[0, 1].plot(epochs, np.mean(all_train_accs, axis=0), label='Average Train Accuracy')\n",
        "    axes[0, 1].plot(epochs, np.mean(all_test_accs, axis=0), label='Average Test Accuracy', linestyle='--')\n",
        "    axes[0, 1].set_title('Train vs Test Accuracy')\n",
        "    axes[0, 1].set_xlabel('Epoch')\n",
        "    axes[0, 1].set_ylabel('Accuracy')\n",
        "    axes[0, 1].legend()\n",
        "\n",
        "    # Plot Training and Testing F1-Scores\n",
        "    axes[1, 0].plot(epochs, np.mean(all_train_f1s, axis=0), label='Average Train F1 Score')\n",
        "    axes[1, 0].plot(epochs, np.mean(all_test_f1s, axis=0), label='Average Test F1 Score', linestyle='--')\n",
        "    axes[1, 0].set_title('Train vs Test F1 Score')\n",
        "    axes[1, 0].set_xlabel('Epoch')\n",
        "    axes[1, 0].set_ylabel('F1 Score')\n",
        "    axes[1, 0].legend()\n",
        "\n",
        "    # Average ROC AUC for the final epoch across all runs\n",
        "    final_roc_aucs = [run['test_roc_aucs'][-1] for run in res_bgbgat_cobre]\n",
        "    axes[1, 1].bar(range(len(final_roc_aucs)), final_roc_aucs)\n",
        "    axes[1, 1].set_title('Final ROC AUC for Each Run')\n",
        "    axes[1, 1].set_xlabel('Run')\n",
        "    axes[1, 1].set_ylabel('ROC AUC')\n",
        "    axes[1, 1].set_ylim([0.5, 1])  # Assuming ROC AUC should be between 0.5 and 1\n",
        "\n",
        "    plt.tight_layout()\n",
        "    plt.show()\n",
        "\n",
        "# Example usage with your data\n",
        "plot_performance_metrics(res_bgbgat_cobre)"
      ],
      "metadata": {
        "colab": {
          "base_uri": "https://localhost:8080/",
          "height": 960
        },
        "id": "v9RggbWquH3D",
        "outputId": "a52f6370-5f61-48c7-a303-d5e0480b63fb"
      },
      "execution_count": 73,
      "outputs": [
        {
          "output_type": "display_data",
          "data": {
            "text/plain": [
              "<Figure size 1200x1000 with 4 Axes>"
            ],
            "image/png": "[encoded data removed]"
          },
          "metadata": {}
        }
      ]
    },
    {
      "cell_type": "markdown",
      "source": [],
      "metadata": {
        "id": "0roPx-i_t7-k"
      }
    },
    {
      "cell_type": "markdown",
      "metadata": {
        "id": "PTiWzntb22Gc"
      },
      "source": [
        "# Performance analysis of bgbGAT"
      ]
    },
    {
      "cell_type": "code",
      "execution_count": 78,
      "metadata": {
        "colab": {
          "base_uri": "https://localhost:8080/"
        },
        "id": "umTztE7d22Gc",
        "outputId": "466a7792-85b6-4701-b3dd-edc00a619508"
      },
      "outputs": [
        {
          "output_type": "stream",
          "name": "stdout",
          "text": [
            "                   mean       std       max\n",
            "Test Accuracy  0.676923  0.057906  0.769231\n",
            "Test F1 Score  0.724315  0.054029  0.812500\n",
            "Test ROC-AUC   0.737879  0.046206  0.827273\n"
          ]
        }
      ],
      "source": [
        "def summarize_metrics(res_bgbgat_cobre):\n",
        "    # Initialize an empty list to collect all run data\n",
        "    data = []\n",
        "\n",
        "    # Iterate over each run's results\n",
        "    for run in res_bgbgat_cobre:\n",
        "        # Each run's final test metrics are taken for summary\n",
        "        data.append({\n",
        "            'Test Accuracy': run['test_accs'][-1],  # last epoch accuracy\n",
        "            'Test F1 Score': run['test_f1s'][-1],   # last epoch F1 score\n",
        "            'Test ROC-AUC': run['test_roc_aucs'][-1]  # last epoch ROC-AUC\n",
        "        })\n",
        "\n",
        "    # Create DataFrame\n",
        "    df = pd.DataFrame(data)\n",
        "\n",
        "    # Calculate statistics\n",
        "    summary_stats = df.agg(['mean', 'std', 'max']).transpose()\n",
        "\n",
        "    return summary_stats\n",
        "\n",
        "summary_stats = summarize_metrics(res_bgbgat_cobre)\n",
        "summary_stats"
      ]
    },
    {
      "cell_type": "code",
      "execution_count": null,
      "metadata": {
        "id": "Zps2_lt222Ge"
      },
      "outputs": [],
      "source": []
    }
  ],
  "metadata": {
    "colab": {
      "provenance": [],
      "machine_shape": "hm",
      "gpuType": "A100"
    },
    "kernelspec": {
      "display_name": "Python 3",
      "name": "python3"
    },
    "language_info": {
      "codemirror_mode": {
        "name": "ipython",
        "version": 3
      },
      "file_extension": ".py",
      "mimetype": "text/x-python",
      "name": "python",
      "nbconvert_exporter": "python",
      "pygments_lexer": "ipython3",
      "version": "3.11.7"
    },
    "accelerator": "GPU"
  },
  "nbformat": 4,
  "nbformat_minor": 0
}